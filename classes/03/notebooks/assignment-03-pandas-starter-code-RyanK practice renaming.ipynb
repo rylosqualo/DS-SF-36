{
 "cells": [
  {
   "cell_type": "markdown",
   "metadata": {},
   "source": [
    "# DS-SF-36 | 03 | `pandas` | Assignment | Starter Code"
   ]
  },
  {
   "cell_type": "markdown",
   "metadata": {},
   "source": [
    "## `pandas` and Bistro"
   ]
  },
  {
   "cell_type": "markdown",
   "metadata": {},
   "source": [
    "You've just told one of your friend that you are taking a Data Science class.  (Yeah!)  Your friend is running a bistro, a small restaurant, serving moderately priced simple meals in a modest setting ([Wikipedia](https://en.wikipedia.org/wiki/Bistro)).  She collected over some period of time the following information of her patrons' visits.\n",
    "\n",
    "| Variable's name | Its meaning |\n",
    "|:---:|:---|\n",
    "| `name` | Patron's first name |\n",
    "| `gender` | Patron's gender |\n",
    "| `is_smoker` | Whether the patron is smoking or not |\n",
    "| `party` | Party's size |\n",
    "| `check` | Check amount (\\$) (after taxes but before tips) |\n",
    "| `tip` | Tip (\\$) that the patron added to the check |\n",
    "| `day` | Week day of the visit |\n",
    "| `time` | Rough time estimate of the visit |\n",
    "\n",
    "In this assignment, we will be exploring this dataset using `pandas`.<sup>(*)</sup>\n",
    "\n",
    "<sup>(*)</sup> this dataset was adapted from the `tips` dataset of the `seaborn` package (https://github.com/mwaskom/seaborn-data)"
   ]
  },
  {
   "cell_type": "markdown",
   "metadata": {},
   "source": [
    "> ### Question 1.  Import `pandas` (as `pd`)."
   ]
  },
  {
   "cell_type": "code",
   "execution_count": 3,
   "metadata": {},
   "outputs": [],
   "source": [
    "import os\n",
    "import pandas as pd\n",
    "import numpy as np\n",
    "\n",
    "# TODO\n",
    "\n",
    "pd.set_option('display.max_rows', 10)\n",
    "pd.set_option('display.notebook_repr_html', True)\n",
    "pd.set_option('display.max_columns', 10)"
   ]
  },
  {
   "cell_type": "markdown",
   "metadata": {},
   "source": [
    "> ### Question 2.  Read the `dataset-03-bistro.csv` dataset."
   ]
  },
  {
   "cell_type": "code",
   "execution_count": 4,
   "metadata": {},
   "outputs": [
    {
     "name": "stdout",
     "output_type": "stream",
     "text": [
      "/Users/nikka.keivanfar/DS-SF-36/classes/03/notebooks\r\n"
     ]
    }
   ],
   "source": [
    "# TODO\n",
    "!pwd"
   ]
  },
  {
   "cell_type": "code",
   "execution_count": 5,
   "metadata": {},
   "outputs": [
    {
     "name": "stdout",
     "output_type": "stream",
     "text": [
      "\u001b[31mdataset-03-bistro.csv\u001b[m\u001b[m              \u001b[31mdataset-03-zillow-transactions.csv\u001b[m\u001b[m\r\n",
      "\u001b[31mdataset-03-zillow-properties.csv\u001b[m\u001b[m\r\n"
     ]
    }
   ],
   "source": [
    "!ls ../datasets"
   ]
  },
  {
   "cell_type": "code",
   "execution_count": 6,
   "metadata": {},
   "outputs": [
    {
     "name": "stdout",
     "output_type": "stream",
     "text": [
      "assignment-03-pandas-starter-code-RyanK practice renaming.ipynb\r\n",
      "\u001b[31massignment-03-pandas-starter-code.ipynb\u001b[m\u001b[m\r\n",
      "codealong-03-pandas-starter-code-RyanK practice.ipynb\r\n",
      "\u001b[31mcodealong-03-pandas-starter-code.ipynb\u001b[m\u001b[m\r\n"
     ]
    }
   ],
   "source": [
    "!ls"
   ]
  },
  {
   "cell_type": "code",
   "execution_count": 7,
   "metadata": {},
   "outputs": [
    {
     "name": "stdout",
     "output_type": "stream",
     "text": [
      "\"day\",\"time\",\"name\",\"gender\",\"is_smoker\",\"party\",\"check\",\"tip\"\r",
      "\r\n",
      "\"Sunday\",\"Dinner\",\"Kimberly\",\"Female\",False,2,16.99,1.01\r",
      "\r\n",
      "\"Sunday\",\"Dinner\",\"Nicholas\",\"Male\",False,3,10.34,1.66\r",
      "\r\n",
      "\"Sunday\",\"Dinner\",\"Larry\",\"Male\",False,3,21.01,3.5\r",
      "\r\n",
      "\"Sunday\",\"Dinner\",\"Joseph\",\"Male\",False,2,23.68,3.31\r",
      "\r\n",
      "\"Sunday\",\"Dinner\",\"Janice\",\"Female\",False,4,24.59,3.61\r",
      "\r\n",
      "\"Sunday\",\"Dinner\",\"Mark\",\"Male\",False,4,25.29,4.71\r",
      "\r\n",
      "\"Sunday\",\"Dinner\",\"Jamie\",\"Male\",False,2,8.77,2.0\r",
      "\r\n",
      "\"Sunday\",\"Dinner\",\"Steven\",\"Male\",False,4,26.88,3.12\r",
      "\r\n",
      "\"Sunday\",\"Dinner\",\"Wilburn\",\"Male\",False,2,15.04,1.96\r",
      "\r\n",
      "\"Sunday\",\"Dinner\",\"Ian\",\"Male\",False,2,14.78,3.23\r",
      "\r\n",
      "\"Sunday\",\"Dinner\",\"Rick\",\"Male\",False,2,10.27,1.71\r",
      "\r\n",
      "\"Sunday\",\"Dinner\",\"Katie\",\"Female\",False,4,35.26,5.0\r",
      "\r\n",
      "\"Sunday\",\"Dinner\",\"Karl\",\"Male\",False,2,15.42,1.57\r",
      "\r\n",
      "\"Sunday\",\"Dinner\",\"Timothy\",\"Male\",False,4,18.43,3.0\r",
      "\r\n",
      "\"Sunday\",\"Dinner\",\"Anne\",\"Female\",False,2,14.83,3.02\r",
      "\r\n",
      "\"Sunday\",\"Dinner\",\"Brandon\",\"Male\",False,2,21.58,3.92\r",
      "\r\n",
      "\"Sunday\",\"Dinner\",\"Alice\",\"Female\",False,3,10.33,1.67\r",
      "\r\n",
      "\"Sunday\",\"Dinner\",\"Roman\",\"Male\",False,3,16.29,3.71\r",
      "\r\n",
      "\"Sunday\",\"Dinner\",\"Paisley\",\"Female\",False,3,16.97,3.5\r",
      "\r\n",
      "\"Saturday\",\"Dinner\",\"Sean\",\"Male\",False,3,20.65,3.35\r",
      "\r\n",
      "\"Saturday\",\"Dinner\",\"William\",\"Male\",False,2,17.92,4.08\r",
      "\r\n",
      "\"Saturday\",\"Dinner\",\"Pauline\",\"Female\",False,2,20.29,2.75\r",
      "\r\n",
      "\"Saturday\",\"Dinner\",\"Jo\",\"Female\",False,2,15.77,2.23\r",
      "\r\n",
      "\"Saturday\",\"Dinner\",\"Richard\",\"Male\",False,4,39.42,7.58\r",
      "\r\n",
      "\"Saturday\",\"Dinner\",\"Carl\",\"Male\",False,2,19.82,3.18\r",
      "\r\n",
      "\"Saturday\",\"Dinner\",\"Mario\",\"Male\",False,4,17.81,2.34\r",
      "\r\n",
      "\"Saturday\",\"Dinner\",\"Charles\",\"Male\",False,2,13.37,2.0\r",
      "\r\n",
      "\"Saturday\",\"Dinner\",\"Tyler\",\"Male\",False,2,12.69,2.0\r",
      "\r\n",
      "\"Saturday\",\"Dinner\",\"Jonathan\",\"Male\",False,2,21.7,4.3\r",
      "\r\n",
      "\"Saturday\",\"Dinner\",\"Jan\",\"Female\",False,2,19.65,3.0\r",
      "\r\n",
      "\"Saturday\",\"Dinner\",\"Dustin\",\"Male\",False,2,9.55,1.45\r",
      "\r\n",
      "\"Saturday\",\"Dinner\",\"Reyes\",\"Male\",False,4,18.35,2.5\r",
      "\r\n",
      "\"Saturday\",\"Dinner\",\"Jessica\",\"Female\",False,2,15.06,3.0\r",
      "\r\n",
      "\"Saturday\",\"Dinner\",\"Laura\",\"Female\",False,4,20.69,2.45\r",
      "\r\n",
      "\"Saturday\",\"Dinner\",\"Alejandro\",\"Male\",False,2,17.78,3.27\r",
      "\r\n",
      "\"Saturday\",\"Dinner\",\"Levi\",\"Male\",False,3,24.06,3.6\r",
      "\r\n",
      "\"Saturday\",\"Dinner\",\"Leonard\",\"Male\",False,3,16.31,2.0\r",
      "\r\n",
      "\"Saturday\",\"Dinner\",\"Lori\",\"Female\",False,3,16.93,3.07\r",
      "\r\n",
      "\"Saturday\",\"Dinner\",\"Tyler\",\"Male\",False,3,18.69,2.31\r",
      "\r\n",
      "\"Saturday\",\"Dinner\",\"Casey\",\"Male\",False,3,31.27,5.0\r",
      "\r\n",
      "\"Saturday\",\"Dinner\",\"Gregory\",\"Male\",False,3,16.04,2.24\r",
      "\r\n",
      "\"Sunday\",\"Dinner\",\"James\",\"Male\",False,2,17.46,2.54\r",
      "\r\n",
      "\"Sunday\",\"Dinner\",\"Casey\",\"Male\",False,2,13.94,3.06\r",
      "\r\n",
      "\"Sunday\",\"Dinner\",\"Arturo\",\"Male\",False,2,9.68,1.32\r",
      "\r\n",
      "\"Sunday\",\"Dinner\",\"Maurice\",\"Male\",False,4,30.4,5.6\r",
      "\r\n",
      "\"Sunday\",\"Dinner\",\"Melvin\",\"Male\",False,2,18.29,3.0\r",
      "\r\n",
      "\"Sunday\",\"Dinner\",\"David\",\"Male\",False,2,22.23,5.0\r",
      "\r\n",
      "\"Sunday\",\"Dinner\",\"Chandler\",\"Male\",False,4,32.4,6.0\r",
      "\r\n",
      "\"Sunday\",\"Dinner\",\"Frank\",\"Male\",False,3,28.55,2.05\r",
      "\r\n",
      "\"Sunday\",\"Dinner\",\"Harold\",\"Male\",False,2,18.04,3.0\r",
      "\r\n",
      "\"Sunday\",\"Dinner\",\"Keith\",\"Male\",False,2,12.54,2.5\r",
      "\r\n",
      "\"Sunday\",\"Dinner\",\"Jennie\",\"Female\",False,2,10.29,2.6\r",
      "\r\n",
      "\"Sunday\",\"Dinner\",\"Wanda\",\"Female\",False,4,34.81,5.2\r",
      "\r\n",
      "\"Sunday\",\"Dinner\",\"Brian\",\"Male\",False,2,9.94,1.56\r",
      "\r\n",
      "\"Sunday\",\"Dinner\",\"David\",\"Male\",False,4,25.56,4.34\r",
      "\r\n",
      "\"Sunday\",\"Dinner\",\"Christopher\",\"Male\",False,2,19.49,3.51\r",
      "\r\n",
      "\"Saturday\",\"Dinner\",\"Marvin\",\"Male\",False,4,38.01,3.0\r",
      "\r\n",
      "\"Saturday\",\"Dinner\",\"Destiny\",\"Female\",False,2,26.41,1.5\r",
      "\r\n",
      "\"Saturday\",\"Dinner\",\"Jerry\",\"Male\",False,2,11.24,1.76\r",
      "\r\n",
      "\"Saturday\",\"Dinner\",\"Diego\",\"Male\",False,4,48.27,6.73\r",
      "\r\n",
      "\"Saturday\",\"Dinner\",\"Christopher\",\"Male\",False,2,20.29,3.21\r",
      "\r\n",
      "\"Saturday\",\"Dinner\",\"Bryson\",\"Male\",False,2,13.81,2.0\r",
      "\r\n",
      "\"Saturday\",\"Dinner\",\"Matt\",\"Male\",False,2,11.02,1.98\r",
      "\r\n",
      "\"Saturday\",\"Dinner\",\"Charles\",\"Male\",False,4,18.29,3.76\r",
      "\r\n",
      "\"Saturday\",\"Dinner\",\"Daniel\",\"Male\",False,3,17.59,2.64\r",
      "\r\n",
      "\"Saturday\",\"Dinner\",\"Harry\",\"Male\",False,3,20.08,3.15\r",
      "\r\n",
      "\"Saturday\",\"Dinner\",\"Rebecka\",\"Female\",False,2,16.45,2.47\r",
      "\r\n",
      "\"Saturday\",\"Dinner\",\"Bailey\",\"Female\",False,1,3.07,1.0\r",
      "\r\n",
      "\"Saturday\",\"Dinner\",\"Ronald\",\"Male\",False,2,20.23,2.01\r",
      "\r\n",
      "\"Saturday\",\"Dinner\",\"Brian\",\"Male\",False,2,15.01,2.09\r",
      "\r\n",
      "\"Saturday\",\"Dinner\",\"William\",\"Male\",False,2,12.02,1.97\r",
      "\r\n",
      "\"Saturday\",\"Dinner\",\"Jocelyn\",\"Female\",False,3,17.07,3.0\r",
      "\r\n",
      "\"Saturday\",\"Dinner\",\"Victoria\",\"Female\",False,2,26.86,3.14\r",
      "\r\n",
      "\"Saturday\",\"Dinner\",\"Lisa\",\"Female\",False,2,25.28,5.0\r",
      "\r\n",
      "\"Saturday\",\"Dinner\",\"Miriam\",\"Female\",False,2,14.73,2.2\r",
      "\r\n",
      "\"Saturday\",\"Dinner\",\"Andrew\",\"Male\",False,2,10.51,1.25\r",
      "\r\n",
      "\"Saturday\",\"Dinner\",\"Edwin\",\"Male\",False,2,17.92,3.08\r",
      "\r\n",
      "\"Thursday\",\"Lunch\",\"Carl\",\"Male\",False,4,27.2,4.0\r",
      "\r\n",
      "\"Thursday\",\"Lunch\",\"Erick\",\"Male\",False,2,22.76,3.0\r",
      "\r\n",
      "\"Thursday\",\"Lunch\",\"Carl\",\"Male\",False,2,17.29,2.71\r",
      "\r\n",
      "\"Thursday\",\"Lunch\",\"Frank\",\"Male\",False,2,19.44,3.0\r",
      "\r\n",
      "\"Thursday\",\"Lunch\",\"James\",\"Male\",False,2,16.66,3.4\r",
      "\r\n",
      "\"Thursday\",\"Lunch\",\"Anna\",\"Female\",False,1,10.07,1.83\r",
      "\r\n",
      "\"Thursday\",\"Lunch\",\"Casey\",\"Male\",False,2,32.68,5.0\r",
      "\r\n",
      "\"Thursday\",\"Lunch\",\"Kaleb\",\"Male\",False,2,15.98,2.03\r",
      "\r\n",
      "\"Thursday\",\"Lunch\",\"Donna\",\"Female\",False,4,34.83,5.17\r",
      "\r\n",
      "\"Thursday\",\"Lunch\",\"Jonathan\",\"Male\",False,2,13.03,2.0\r",
      "\r\n",
      "\"Thursday\",\"Lunch\",\"Brent\",\"Male\",False,2,18.28,4.0\r",
      "\r\n",
      "\"Thursday\",\"Lunch\",\"Kenneth\",\"Male\",False,2,24.71,5.85\r",
      "\r\n",
      "\"Thursday\",\"Lunch\",\"Todd\",\"Male\",False,2,21.16,3.0\r",
      "\r\n",
      "\"Friday\",\"Dinner\",\"Frank\",\"Male\",False,2,28.97,3.0\r",
      "\r\n",
      "\"Friday\",\"Dinner\",\"Maverick\",\"Male\",False,2,22.49,3.5\r",
      "\r\n",
      "\"Friday\",\"Dinner\",\"Brandi\",\"Female\",False,2,5.75,1.0\r",
      "\r\n",
      "\"Friday\",\"Dinner\",\"Melinda\",\"Female\",False,2,16.32,4.3\r",
      "\r\n",
      "\"Friday\",\"Dinner\",\"Eleanor\",\"Female\",False,2,22.75,3.25\r",
      "\r\n",
      "\"Friday\",\"Dinner\",\"Curtis\",\"Male\",False,4,40.17,4.73\r",
      "\r\n",
      "\"Friday\",\"Dinner\",\"Kevin\",\"Male\",False,2,27.28,4.0\r",
      "\r\n",
      "\"Friday\",\"Dinner\",\"Alex\",\"Male\",False,2,12.03,1.5\r",
      "\r\n",
      "\"Friday\",\"Dinner\",\"Roger\",\"Male\",False,2,21.01,3.0\r",
      "\r\n",
      "\"Friday\",\"Dinner\",\"Adalberto\",\"Male\",False,2,12.46,1.5\r",
      "\r\n",
      "\"Friday\",\"Dinner\",\"Martha\",\"Female\",False,2,11.35,2.5\r",
      "\r\n",
      "\"Friday\",\"Dinner\",\"Dora\",\"Female\",False,2,15.38,3.0\r",
      "\r\n",
      "\"Saturday\",\"Dinner\",\"Mildred\",\"Female\",False,3,44.3,2.5\r",
      "\r\n",
      "\"Saturday\",\"Dinner\",\"Tracy\",\"Female\",False,2,22.42,3.48\r",
      "\r\n",
      "\"Saturday\",\"Dinner\",\"Dena\",\"Female\",False,2,20.92,4.08\r",
      "\r\n",
      "\"Saturday\",\"Dinner\",\"Kenneth\",\"Male\",False,2,15.36,1.64\r",
      "\r\n",
      "\"Saturday\",\"Dinner\",\"Kody\",\"Male\",False,2,20.49,4.06\r",
      "\r\n",
      "\"Saturday\",\"Dinner\",\"Kelly\",\"Male\",False,2,25.21,4.29\r",
      "\r\n",
      "\"Saturday\",\"Dinner\",\"David\",\"Male\",False,2,18.24,3.76\r",
      "\r",
      "\r\n",
      "\"Saturday\",\"Dinner\",\"Theresa\",\"Female\",False,2,14.31,4.0\r",
      "\r\n",
      "\"Saturday\",\"Dinner\",\"Javier\",\"Male\",False,2,14.0,3.0\r",
      "\r\n",
      "\"Saturday\",\"Dinner\",\"Ruth\",\"Female\",False,1,7.25,1.0\r",
      "\r\n",
      "\"Sunday\",\"Dinner\",\"Michal\",\"Male\",False,3,38.07,4.0\r",
      "\r\n",
      "\"Sunday\",\"Dinner\",\"Erin\",\"Male\",False,2,23.95,2.55\r",
      "\r\n",
      "\"Sunday\",\"Dinner\",\"Raelynn\",\"Female\",False,3,25.71,4.0\r",
      "\r\n",
      "\"Sunday\",\"Dinner\",\"Imani\",\"Female\",False,2,17.31,3.5\r",
      "\r\n",
      "\"Sunday\",\"Dinner\",\"Stanley\",\"Male\",False,4,29.93,5.07\r",
      "\r\n",
      "\"Thursday\",\"Lunch\",\"Lena\",\"Female\",False,2,10.65,1.5\r",
      "\r\n",
      "\"Thursday\",\"Lunch\",\"Shaquasia\",\"Female\",False,2,12.43,1.8\r",
      "\r\n",
      "\"Thursday\",\"Lunch\",\"Mary\",\"Female\",False,4,24.08,2.92\r",
      "\r\n",
      "\"Thursday\",\"Lunch\",\"Norman\",\"Male\",False,2,11.69,2.31\r",
      "\r\n",
      "\"Thursday\",\"Lunch\",\"Karen\",\"Female\",False,2,13.42,1.68\r",
      "\r\n",
      "\"Thursday\",\"Lunch\",\"Walter\",\"Male\",False,2,14.26,2.5\r",
      "\r\n",
      "\"Thursday\",\"Lunch\",\"Mark\",\"Male\",False,2,15.95,2.0\r",
      "\r\n",
      "\"Thursday\",\"Lunch\",\"Janice\",\"Female\",False,2,12.48,2.52\r",
      "\r\n",
      "\"Thursday\",\"Lunch\",\"Lisa\",\"Female\",False,6,29.8,4.2\r",
      "\r\n",
      "\"Thursday\",\"Lunch\",\"Alex\",\"Male\",False,2,8.52,1.48\r",
      "\r\n",
      "\"Thursday\",\"Lunch\",\"Elizabeth\",\"Female\",False,2,14.52,2.0\r",
      "\r\n",
      "\"Thursday\",\"Lunch\",\"Marian\",\"Female\",False,2,11.38,2.0\r",
      "\r\n",
      "\"Thursday\",\"Lunch\",\"Enrique\",\"Male\",False,3,22.82,2.18\r",
      "\r\n",
      "\"Thursday\",\"Lunch\",\"Lewis\",\"Male\",False,2,19.08,1.5\r",
      "\r\n",
      "\"Thursday\",\"Lunch\",\"Jaycee\",\"Female\",False,2,20.27,2.83\r",
      "\r\n",
      "\"Thursday\",\"Lunch\",\"Brenda\",\"Female\",False,2,11.17,1.5\r",
      "\r\n",
      "\"Thursday\",\"Lunch\",\"Elizabeth\",\"Female\",False,2,12.26,2.0\r",
      "\r\n",
      "\"Thursday\",\"Lunch\",\"Laura\",\"Female\",False,2,18.26,3.25\r",
      "\r\n",
      "\"Thursday\",\"Lunch\",\"Lillyanna\",\"Female\",False,2,8.51,1.25\r",
      "\r\n",
      "\"Thursday\",\"Lunch\",\"Lauren\",\"Female\",False,2,10.33,2.0\r",
      "\r\n",
      "\"Thursday\",\"Lunch\",\"Margaret\",\"Female\",False,2,14.15,2.0\r",
      "\r\n",
      "\"Thursday\",\"Lunch\",\"Martin\",\"Male\",False,2,16.0,2.0\r",
      "\r\n",
      "\"Thursday\",\"Lunch\",\"Jean\",\"Female\",False,2,13.16,2.75\r",
      "\r\n",
      "\"Thursday\",\"Lunch\",\"Shirlene\",\"Female\",False,2,17.47,3.5\r",
      "\r\n",
      "\"Thursday\",\"Lunch\",\"Harry\",\"Male\",False,6,34.3,6.7\r",
      "\r\n",
      "\"Thursday\",\"Lunch\",\"James\",\"Male\",False,5,41.19,5.0\r",
      "\r\n",
      "\"Thursday\",\"Lunch\",\"Shelley\",\"Female\",False,6,27.05,5.0\r",
      "\r\n",
      "\"Thursday\",\"Lunch\",\"Phyllis\",\"Female\",False,2,16.43,2.3\r",
      "\r\n",
      "\"Thursday\",\"Lunch\",\"Mary\",\"Female\",False,2,8.35,1.5\r",
      "\r\n",
      "\"Thursday\",\"Lunch\",\"Barbara\",\"Female\",False,3,18.64,1.36\r",
      "\r\n",
      "\"Thursday\",\"Lunch\",\"Susan\",\"Female\",False,2,11.87,1.63\r",
      "\r\n",
      "\"Thursday\",\"Lunch\",\"Neil\",\"Male\",False,2,9.78,1.73\r",
      "\r\n",
      "\"Thursday\",\"Lunch\",\"Zackary\",\"Male\",False,2,7.51,2.0\r",
      "\r\n",
      "\"Sunday\",\"Dinner\",\"Christian\",\"Male\",False,2,14.07,2.5\r",
      "\r\n",
      "\"Sunday\",\"Dinner\",\"Sean\",\"Male\",False,2,13.13,2.0\r",
      "\r\n",
      "\"Sunday\",\"Dinner\",\"Cisco\",\"Male\",False,3,17.26,2.74\r",
      "\r\n",
      "\"Sunday\",\"Dinner\",\"Leslie\",\"Male\",False,4,24.55,2.0\r",
      "\r\n",
      "\"Sunday\",\"Dinner\",\"Carter\",\"Male\",False,4,19.77,2.0\r",
      "\r\n",
      "\"Sunday\",\"Dinner\",\"Ruth\",\"Female\",False,5,29.85,5.14\r",
      "\r\n",
      "\"Sunday\",\"Dinner\",\"Robert\",\"Male\",False,6,48.17,5.0\r",
      "\r\n",
      "\"Sunday\",\"Dinner\",\"Laura\",\"Female\",False,4,25.0,3.75\r",
      "\r\n",
      "\"Sunday\",\"Dinner\",\"Jacqueline\",\"Female\",False,2,13.39,2.61\r",
      "\r\n",
      "\"Sunday\",\"Dinner\",\"Benjamin\",\"Male\",False,4,16.49,2.0\r",
      "\r\n",
      "\"Sunday\",\"Dinner\",\"Casey\",\"Male\",False,4,21.5,3.5\r",
      "\r\n",
      "\"Sunday\",\"Dinner\",\"Jeffery\",\"Male\",False,2,12.66,2.5\r",
      "\r\n",
      "\"Sunday\",\"Dinner\",\"Melody\",\"Female\",False,3,16.21,2.0\r",
      "\r\n",
      "\"Sunday\",\"Dinner\",\"Scott\",\"Male\",False,2,13.81,2.0\r",
      "\r\n",
      "\"Sunday\",\"Dinner\",\"Vickie\",\"Female\",False,2,17.51,3.0\r",
      "\r\n",
      "\"Sunday\",\"Dinner\",\"Sam\",\"Male\",False,3,24.52,3.48\r",
      "\r\n",
      "\"Sunday\",\"Dinner\",\"Aiden\",\"Male\",False,2,20.76,2.24\r",
      "\r\n",
      "\"Sunday\",\"Dinner\",\"Gregory\",\"Male\",False,4,31.71,4.5\r",
      "\r\n",
      "\"Saturday\",\"Dinner\",\"Casey\",\"Female\",False,2,10.59,1.61\r",
      "\r\n",
      "\"Saturday\",\"Dinner\",\"Cassandra\",\"Female\",False,2,10.63,2.0\r",
      "\r\n",
      "\"Saturday\",\"Dinner\",\"Jonathan\",\"Male\",False,3,50.81,10.0\r",
      "\r\n",
      "\"Saturday\",\"Dinner\",\"Antonio\",\"Male\",False,2,15.81,3.16\r",
      "\r\n",
      "\"Sunday\",\"Dinner\",\"Daniel\",\"Male\",False,2,7.25,5.15\r",
      "\r\n",
      "\"Sunday\",\"Dinner\",\"Alejandro\",\"Male\",False,2,31.85,3.18\r",
      "\r\n",
      "\"Sunday\",\"Dinner\",\"Ricky\",\"Male\",False,2,16.82,4.0\r",
      "\r\n",
      "\"Sunday\",\"Dinner\",\"David\",\"Male\",False,2,32.9,3.11\r",
      "\r\n",
      "\"Sunday\",\"Dinner\",\"Gerald\",\"Male\",False,2,17.89,2.0\r",
      "\r\n",
      "\"Sunday\",\"Dinner\",\"Timothy\",\"Male\",False,2,14.48,2.0\r",
      "\r\n",
      "\"Sunday\",\"Dinner\",\"Maryann\",\"Female\",False,2,9.6,4.0\r",
      "\r\n",
      "\"Sunday\",\"Dinner\",\"Amos\",\"Male\",False,2,34.63,3.55\r",
      "\r\n",
      "\"Sunday\",\"Dinner\",\"Claude\",\"Male\",False,4,34.65,3.68\r",
      "\r\n",
      "\"Sunday\",\"Dinner\",\"Logan\",\"Male\",False,2,23.33,5.65\r",
      "\r\n",
      "\"Sunday\",\"Dinner\",\"Kenneth\",\"Male\",False,3,45.35,3.5\r",
      "\r\n",
      "\"Sunday\",\"Dinner\",\"Dennis\",\"Male\",False,4,23.17,6.5\r",
      "\r\n",
      "\"Sunday\",\"Dinner\",\"Torrey\",\"Male\",False,2,40.55,3.0\r",
      "\r\n",
      "\"Sunday\",\"Dinner\",\"Leonardo\",\"Male\",False,5,20.69,5.0\r",
      "\r\n",
      "\"Sunday\",\"Dinner\",\"Kelley\",\"Female\",False,3,20.9,3.5\r",
      "\r\n",
      "\"Sunday\",\"Dinner\",\"Kevin\",\"Male\",False,5,30.46,2.0\r",
      "\r\n",
      "\"Sunday\",\"Dinner\",\"Casey\",\"Female\",False,3,18.15,3.5\r",
      "\r\n",
      "\"Sunday\",\"Dinner\",\"Francis\",\"Male\",False,3,23.1,4.0\r",
      "\r\n",
      "\"Sunday\",\"Dinner\",\"Jacob\",\"Male\",False,2,15.69,1.5\r",
      "\r\n",
      "\"Thursday\",\"Lunch\",\"Connie\",\"Female\",False,2,19.81,4.19\r",
      "\r\n",
      "\"Thursday\",\"Lunch\",\"Dale\",\"Male\",False,2,28.44,2.56\r",
      "\r\n",
      "\"Thursday\",\"Lunch\",\"Tyler\",\"Male\",False,2,15.48,2.02\r",
      "\r\n",
      "\"Thursday\",\"Lunch\",\"Paul\",\"Male\",False,2,16.58,4.0\r",
      "\r\n",
      "\"Thursday\",\"Lunch\",\"John\",\"Male\",False,2,7.56,1.44\r",
      "\r\n",
      "\"Thursday\",\"Lunch\",\"David\",\"Male\",False,2,10.34,2.0\r",
      "\r\n",
      "\"Thursday\",\"Lunch\",\"Diana\",\"Female\",False,4,43.11,5.0\r",
      "\r\n",
      "\"Thursday\",\"Lunch\",\"Angeline\",\"Female\",False,2,13.0,2.0\r",
      "\r\n",
      "\"Thursday\",\"Lunch\",\"James\",\"Male\",False,2,13.51,2.0\r",
      "\r\n",
      "\"Thursday\",\"Lunch\",\"Francis\",\"Male\",False,3,18.71,4.0\r",
      "\r\n",
      "\"Thursday\",\"Lunch\",\"Mary\",\"Female\",False,2,12.74,2.01\r",
      "\r\n",
      "\"Thursday\",\"Lunch\",\"Hasini\",\"Female\",False,2,13.0,2.0\r",
      "\r\n",
      "\"Thursday\",\"Lunch\",\"Celeste\",\"Female\",False,2,16.4,2.5\r",
      "\r\n",
      "\"Thursday\",\"Lunch\",\"Alexander\",\"Male\",False,4,20.53,4.0\r",
      "\r\n",
      "\"Thursday\",\"Lunch\",\"Anna\",\"Female\",False,3,16.47,3.23\r",
      "\r\n",
      "\"Saturday\",\"Dinner\",\"Casey\",\"Male\",False,3,26.59,3.41\r",
      "\r\n",
      "\"Saturday\",\"Dinner\",\"Jeffery\",\"Male\",False,4,38.73,3.0\r",
      "\r\n",
      "\"Saturday\",\"Dinner\",\"Joseph\",\"Male\",False,2,24.27,2.03\r",
      "\r\n",
      "\"Saturday\",\"Dinner\",\"Shirley\",\"Female\",False,2,12.76,2.23\r",
      "\r\n",
      "\"Saturday\",\"Dinner\",\"Willie\",\"Male\",False,3,30.06,2.0\r",
      "\r\n",
      "\"Saturday\",\"Dinner\",\"David\",\"Male\",False,4,25.89,5.16\r",
      "\r\n",
      "\"Saturday\",\"Dinner\",\"Matthew\",\"Male\",False,4,48.33,9.0\r",
      "\r\n",
      "\"Saturday\",\"Dinner\",\"Dominic\",\"Female\",False,2,13.27,2.5\r",
      "\r\n",
      "\"Saturday\",\"Dinner\",\"Alice\",\"Female\",False,3,28.17,6.5\r",
      "\r\n",
      "\"Saturday\",\"Dinner\",\"Natalie\",\"Female\",False,2,12.9,1.1\r",
      "\r\n",
      "\"Saturday\",\"Dinner\",\"Fred\",\"Male\",False,5,28.15,3.0\r",
      "\r\n",
      "\"Saturday\",\"Dinner\",\"Ian\",\"Male\",False,2,11.59,1.5\r",
      "\r\n",
      "\"Saturday\",\"Dinner\",\"Kevin\",\"Male\",False,2,7.74,1.44\r",
      "\r\n",
      "\"Saturday\",\"Dinner\",\"Roberta\",\"Female\",False,4,30.14,3.09\r",
      "\r\n",
      "\"Friday\",\"Lunch\",\"Luis\",\"Male\",False,2,12.16,2.2\r",
      "\r\n",
      "\"Friday\",\"Lunch\",\"Sarah\",\"Female\",False,2,13.42,3.48\r",
      "\r\n",
      "\"Friday\",\"Lunch\",\"Eduardo\",\"Male\",False,1,8.58,1.92\r",
      "\r\n",
      "\"Friday\",\"Lunch\",\"Paulette\",\"Female\",False,3,15.98,3.0\r",
      "\r\n",
      "\"Friday\",\"Lunch\",\"Dale\",\"Male\",False,2,13.42,1.58\r",
      "\r\n",
      "\"Friday\",\"Lunch\",\"Theresa\",\"Female\",False,2,16.27,2.5\r",
      "\r\n",
      "\"Friday\",\"Lunch\",\"Mary\",\"Female\",False,2,10.09,2.0\r",
      "\r\n",
      "\"Saturday\",\"Dinner\",\"David\",\"Male\",False,4,20.45,3.0\r",
      "\r\n",
      "\"Saturday\",\"Dinner\",\"Vernon\",\"Male\",False,2,13.28,2.72\r",
      "\r\n",
      "\"Saturday\",\"Dinner\",\"Casey\",\"Female\",False,2,22.12,2.88\r",
      "\r\n",
      "\"Saturday\",\"Dinner\",\"Donald\",\"Male\",False,4,24.01,2.0\r",
      "\r\n",
      "\"Saturday\",\"Dinner\",\"David\",\"Male\",False,3,15.69,3.0\r",
      "\r\n",
      "\"Saturday\",\"Dinner\",\"Jon\",\"Male\",False,2,11.61,3.39\r",
      "\r\n",
      "\"Saturday\",\"Dinner\",\"Alfred\",\"Male\",False,2,10.77,1.47\r",
      "\r\n",
      "\"Saturday\",\"Dinner\",\"Darwin\",\"Male\",False,2,15.53,3.0\r",
      "\r\n",
      "\"Saturday\",\"Dinner\",\"James\",\"Male\",False,2,10.07,1.25\r",
      "\r\n",
      "\"Saturday\",\"Dinner\",\"Henry\",\"Male\",False,2,12.6,1.0\r",
      "\r\n",
      "\"Saturday\",\"Dinner\",\"Jeremy\",\"Male\",False,2,32.83,1.17\r",
      "\r\n",
      "\"Saturday\",\"Dinner\",\"Dorothy\",\"Female\",False,3,35.83,4.67\r",
      "\r\n",
      "\"Saturday\",\"Dinner\",\"Kevin\",\"Male\",False,3,29.03,5.92\r",
      "\r\n",
      "\"Saturday\",\"Dinner\",\"Sandra\",\"Female\",False,2,27.18,2.0\r",
      "\r\n",
      "\"Saturday\",\"Dinner\",\"Carl\",\"Male\",False,2,22.67,2.0\r",
      "\r\n",
      "\"Saturday\",\"Dinner\",\"Jon\",\"Male\",False,2,17.82,1.75\r",
      "\r\n",
      "\"Thursday\",\"Dinner\",\"Brandi\",\"Female\",False,2,18.78,3.0\r",
      "\r\n"
     ]
    }
   ],
   "source": [
    "!cat ../datasets/dataset-03-bistro.csv ###cat = show me the contents of this file"
   ]
  },
  {
   "cell_type": "code",
   "execution_count": 8,
   "metadata": {
    "collapsed": true
   },
   "outputs": [],
   "source": [
    "df = pd.read_csv(os.path.join('..', 'datasets', 'dataset-03-bistro.csv'))  ###assign it to a data frame called \"df\""
   ]
  },
  {
   "cell_type": "markdown",
   "metadata": {},
   "source": [
    "> ### Question 3.  What is the class of the `pandas` object storing the dataset?"
   ]
  },
  {
   "cell_type": "code",
   "execution_count": 9,
   "metadata": {},
   "outputs": [
    {
     "data": {
      "text/plain": [
       "pandas.core.frame.DataFrame"
      ]
     },
     "execution_count": 9,
     "metadata": {},
     "output_type": "execute_result"
    }
   ],
   "source": [
    "type(df)"
   ]
  },
  {
   "cell_type": "markdown",
   "metadata": {},
   "source": [
    "Answer: a dataframe\n"
   ]
  },
  {
   "cell_type": "markdown",
   "metadata": {},
   "source": [
    "> ### Question 4.  How many samples (i.e., rows) are in this dataset?"
   ]
  },
  {
   "cell_type": "code",
   "execution_count": 10,
   "metadata": {},
   "outputs": [
    {
     "data": {
      "text/html": [
       "<div>\n",
       "<style>\n",
       "    .dataframe thead tr:only-child th {\n",
       "        text-align: right;\n",
       "    }\n",
       "\n",
       "    .dataframe thead th {\n",
       "        text-align: left;\n",
       "    }\n",
       "\n",
       "    .dataframe tbody tr th {\n",
       "        vertical-align: top;\n",
       "    }\n",
       "</style>\n",
       "<table border=\"1\" class=\"dataframe\">\n",
       "  <thead>\n",
       "    <tr style=\"text-align: right;\">\n",
       "      <th></th>\n",
       "      <th>day</th>\n",
       "      <th>time</th>\n",
       "      <th>name</th>\n",
       "      <th>gender</th>\n",
       "      <th>is_smoker</th>\n",
       "      <th>party</th>\n",
       "      <th>check</th>\n",
       "      <th>tip</th>\n",
       "    </tr>\n",
       "  </thead>\n",
       "  <tbody>\n",
       "    <tr>\n",
       "      <th>0</th>\n",
       "      <td>Sunday</td>\n",
       "      <td>Dinner</td>\n",
       "      <td>Kimberly</td>\n",
       "      <td>Female</td>\n",
       "      <td>False</td>\n",
       "      <td>2</td>\n",
       "      <td>16.99</td>\n",
       "      <td>1.01</td>\n",
       "    </tr>\n",
       "    <tr>\n",
       "      <th>1</th>\n",
       "      <td>Sunday</td>\n",
       "      <td>Dinner</td>\n",
       "      <td>Nicholas</td>\n",
       "      <td>Male</td>\n",
       "      <td>False</td>\n",
       "      <td>3</td>\n",
       "      <td>10.34</td>\n",
       "      <td>1.66</td>\n",
       "    </tr>\n",
       "    <tr>\n",
       "      <th>2</th>\n",
       "      <td>Sunday</td>\n",
       "      <td>Dinner</td>\n",
       "      <td>Larry</td>\n",
       "      <td>Male</td>\n",
       "      <td>False</td>\n",
       "      <td>3</td>\n",
       "      <td>21.01</td>\n",
       "      <td>3.50</td>\n",
       "    </tr>\n",
       "    <tr>\n",
       "      <th>3</th>\n",
       "      <td>Sunday</td>\n",
       "      <td>Dinner</td>\n",
       "      <td>Joseph</td>\n",
       "      <td>Male</td>\n",
       "      <td>False</td>\n",
       "      <td>2</td>\n",
       "      <td>23.68</td>\n",
       "      <td>3.31</td>\n",
       "    </tr>\n",
       "    <tr>\n",
       "      <th>4</th>\n",
       "      <td>Sunday</td>\n",
       "      <td>Dinner</td>\n",
       "      <td>Janice</td>\n",
       "      <td>Female</td>\n",
       "      <td>False</td>\n",
       "      <td>4</td>\n",
       "      <td>24.59</td>\n",
       "      <td>3.61</td>\n",
       "    </tr>\n",
       "    <tr>\n",
       "      <th>...</th>\n",
       "      <td>...</td>\n",
       "      <td>...</td>\n",
       "      <td>...</td>\n",
       "      <td>...</td>\n",
       "      <td>...</td>\n",
       "      <td>...</td>\n",
       "      <td>...</td>\n",
       "      <td>...</td>\n",
       "    </tr>\n",
       "    <tr>\n",
       "      <th>239</th>\n",
       "      <td>Saturday</td>\n",
       "      <td>Dinner</td>\n",
       "      <td>Kevin</td>\n",
       "      <td>Male</td>\n",
       "      <td>False</td>\n",
       "      <td>3</td>\n",
       "      <td>29.03</td>\n",
       "      <td>5.92</td>\n",
       "    </tr>\n",
       "    <tr>\n",
       "      <th>240</th>\n",
       "      <td>Saturday</td>\n",
       "      <td>Dinner</td>\n",
       "      <td>Sandra</td>\n",
       "      <td>Female</td>\n",
       "      <td>False</td>\n",
       "      <td>2</td>\n",
       "      <td>27.18</td>\n",
       "      <td>2.00</td>\n",
       "    </tr>\n",
       "    <tr>\n",
       "      <th>241</th>\n",
       "      <td>Saturday</td>\n",
       "      <td>Dinner</td>\n",
       "      <td>Carl</td>\n",
       "      <td>Male</td>\n",
       "      <td>False</td>\n",
       "      <td>2</td>\n",
       "      <td>22.67</td>\n",
       "      <td>2.00</td>\n",
       "    </tr>\n",
       "    <tr>\n",
       "      <th>242</th>\n",
       "      <td>Saturday</td>\n",
       "      <td>Dinner</td>\n",
       "      <td>Jon</td>\n",
       "      <td>Male</td>\n",
       "      <td>False</td>\n",
       "      <td>2</td>\n",
       "      <td>17.82</td>\n",
       "      <td>1.75</td>\n",
       "    </tr>\n",
       "    <tr>\n",
       "      <th>243</th>\n",
       "      <td>Thursday</td>\n",
       "      <td>Dinner</td>\n",
       "      <td>Brandi</td>\n",
       "      <td>Female</td>\n",
       "      <td>False</td>\n",
       "      <td>2</td>\n",
       "      <td>18.78</td>\n",
       "      <td>3.00</td>\n",
       "    </tr>\n",
       "  </tbody>\n",
       "</table>\n",
       "<p>244 rows × 8 columns</p>\n",
       "</div>"
      ],
      "text/plain": [
       "          day    time      name  gender  is_smoker  party  check   tip\n",
       "0      Sunday  Dinner  Kimberly  Female      False      2  16.99  1.01\n",
       "1      Sunday  Dinner  Nicholas    Male      False      3  10.34  1.66\n",
       "2      Sunday  Dinner     Larry    Male      False      3  21.01  3.50\n",
       "3      Sunday  Dinner    Joseph    Male      False      2  23.68  3.31\n",
       "4      Sunday  Dinner    Janice  Female      False      4  24.59  3.61\n",
       "..        ...     ...       ...     ...        ...    ...    ...   ...\n",
       "239  Saturday  Dinner     Kevin    Male      False      3  29.03  5.92\n",
       "240  Saturday  Dinner    Sandra  Female      False      2  27.18  2.00\n",
       "241  Saturday  Dinner      Carl    Male      False      2  22.67  2.00\n",
       "242  Saturday  Dinner       Jon    Male      False      2  17.82  1.75\n",
       "243  Thursday  Dinner    Brandi  Female      False      2  18.78  3.00\n",
       "\n",
       "[244 rows x 8 columns]"
      ]
     },
     "execution_count": 10,
     "metadata": {},
     "output_type": "execute_result"
    }
   ],
   "source": [
    "df"
   ]
  },
  {
   "cell_type": "code",
   "execution_count": 11,
   "metadata": {},
   "outputs": [
    {
     "data": {
      "text/plain": [
       "244"
      ]
     },
     "execution_count": 11,
     "metadata": {},
     "output_type": "execute_result"
    }
   ],
   "source": [
    "len(df)"
   ]
  },
  {
   "cell_type": "markdown",
   "metadata": {},
   "source": [
    "Answer: 244 rows"
   ]
  },
  {
   "cell_type": "markdown",
   "metadata": {},
   "source": [
    "> ### Question 5.  How many variables (i.e., columns) are in this dataset?"
   ]
  },
  {
   "cell_type": "code",
   "execution_count": null,
   "metadata": {},
   "outputs": [],
   "source": [
    "# TODO"
   ]
  },
  {
   "cell_type": "markdown",
   "metadata": {},
   "source": [
    "Answer: 8 columns\n"
   ]
  },
  {
   "cell_type": "markdown",
   "metadata": {},
   "source": [
    "> ### Question 6.  Print the name of each column in the dataset, one name per line."
   ]
  },
  {
   "cell_type": "code",
   "execution_count": 12,
   "metadata": {},
   "outputs": [
    {
     "data": {
      "text/plain": [
       "['day', 'time', 'name', 'gender', 'is_smoker', 'party', 'check', 'tip']"
      ]
     },
     "execution_count": 12,
     "metadata": {},
     "output_type": "execute_result"
    }
   ],
   "source": [
    "list(df)"
   ]
  },
  {
   "cell_type": "code",
   "execution_count": 14,
   "metadata": {},
   "outputs": [
    {
     "data": {
      "text/plain": [
       "['day', 'time', 'name', 'gender', 'is_smoker', 'party', 'check', 'tip']"
      ]
     },
     "execution_count": 14,
     "metadata": {},
     "output_type": "execute_result"
    }
   ],
   "source": [
    "df.columns.tolist()"
   ]
  },
  {
   "cell_type": "code",
   "execution_count": 15,
   "metadata": {},
   "outputs": [
    {
     "data": {
      "text/plain": [
       "Index([u'day', u'time', u'name', u'gender', u'is_smoker', u'party', u'check',\n",
       "       u'tip'],\n",
       "      dtype='object')"
      ]
     },
     "execution_count": 15,
     "metadata": {},
     "output_type": "execute_result"
    }
   ],
   "source": [
    "df.columns"
   ]
  },
  {
   "cell_type": "markdown",
   "metadata": {},
   "source": [
    "> ### Question 7.  Print the first two rows of the dataset to the console.  What does the output look like?"
   ]
  },
  {
   "cell_type": "code",
   "execution_count": 17,
   "metadata": {},
   "outputs": [
    {
     "data": {
      "text/html": [
       "<div>\n",
       "<style>\n",
       "    .dataframe thead tr:only-child th {\n",
       "        text-align: right;\n",
       "    }\n",
       "\n",
       "    .dataframe thead th {\n",
       "        text-align: left;\n",
       "    }\n",
       "\n",
       "    .dataframe tbody tr th {\n",
       "        vertical-align: top;\n",
       "    }\n",
       "</style>\n",
       "<table border=\"1\" class=\"dataframe\">\n",
       "  <thead>\n",
       "    <tr style=\"text-align: right;\">\n",
       "      <th></th>\n",
       "      <th>day</th>\n",
       "      <th>time</th>\n",
       "      <th>name</th>\n",
       "      <th>gender</th>\n",
       "      <th>is_smoker</th>\n",
       "      <th>party</th>\n",
       "      <th>check</th>\n",
       "      <th>tip</th>\n",
       "    </tr>\n",
       "  </thead>\n",
       "  <tbody>\n",
       "    <tr>\n",
       "      <th>0</th>\n",
       "      <td>Sunday</td>\n",
       "      <td>Dinner</td>\n",
       "      <td>Kimberly</td>\n",
       "      <td>Female</td>\n",
       "      <td>False</td>\n",
       "      <td>2</td>\n",
       "      <td>16.99</td>\n",
       "      <td>1.01</td>\n",
       "    </tr>\n",
       "    <tr>\n",
       "      <th>1</th>\n",
       "      <td>Sunday</td>\n",
       "      <td>Dinner</td>\n",
       "      <td>Nicholas</td>\n",
       "      <td>Male</td>\n",
       "      <td>False</td>\n",
       "      <td>3</td>\n",
       "      <td>10.34</td>\n",
       "      <td>1.66</td>\n",
       "    </tr>\n",
       "  </tbody>\n",
       "</table>\n",
       "</div>"
      ],
      "text/plain": [
       "      day    time      name  gender  is_smoker  party  check   tip\n",
       "0  Sunday  Dinner  Kimberly  Female      False      2  16.99  1.01\n",
       "1  Sunday  Dinner  Nicholas    Male      False      3  10.34  1.66"
      ]
     },
     "execution_count": 17,
     "metadata": {},
     "output_type": "execute_result"
    }
   ],
   "source": [
    "df.head(2)"
   ]
  },
  {
   "cell_type": "markdown",
   "metadata": {},
   "source": [
    "Answer: output is a dataframe "
   ]
  },
  {
   "cell_type": "markdown",
   "metadata": {},
   "source": [
    "> ### Question 8.  Extract the last 2 rows of the data frame and print them to the console.  What does the output look like?"
   ]
  },
  {
   "cell_type": "code",
   "execution_count": 18,
   "metadata": {},
   "outputs": [
    {
     "data": {
      "text/html": [
       "<div>\n",
       "<style>\n",
       "    .dataframe thead tr:only-child th {\n",
       "        text-align: right;\n",
       "    }\n",
       "\n",
       "    .dataframe thead th {\n",
       "        text-align: left;\n",
       "    }\n",
       "\n",
       "    .dataframe tbody tr th {\n",
       "        vertical-align: top;\n",
       "    }\n",
       "</style>\n",
       "<table border=\"1\" class=\"dataframe\">\n",
       "  <thead>\n",
       "    <tr style=\"text-align: right;\">\n",
       "      <th></th>\n",
       "      <th>day</th>\n",
       "      <th>time</th>\n",
       "      <th>name</th>\n",
       "      <th>gender</th>\n",
       "      <th>is_smoker</th>\n",
       "      <th>party</th>\n",
       "      <th>check</th>\n",
       "      <th>tip</th>\n",
       "    </tr>\n",
       "  </thead>\n",
       "  <tbody>\n",
       "    <tr>\n",
       "      <th>242</th>\n",
       "      <td>Saturday</td>\n",
       "      <td>Dinner</td>\n",
       "      <td>Jon</td>\n",
       "      <td>Male</td>\n",
       "      <td>False</td>\n",
       "      <td>2</td>\n",
       "      <td>17.82</td>\n",
       "      <td>1.75</td>\n",
       "    </tr>\n",
       "    <tr>\n",
       "      <th>243</th>\n",
       "      <td>Thursday</td>\n",
       "      <td>Dinner</td>\n",
       "      <td>Brandi</td>\n",
       "      <td>Female</td>\n",
       "      <td>False</td>\n",
       "      <td>2</td>\n",
       "      <td>18.78</td>\n",
       "      <td>3.00</td>\n",
       "    </tr>\n",
       "  </tbody>\n",
       "</table>\n",
       "</div>"
      ],
      "text/plain": [
       "          day    time    name  gender  is_smoker  party  check   tip\n",
       "242  Saturday  Dinner     Jon    Male      False      2  17.82  1.75\n",
       "243  Thursday  Dinner  Brandi  Female      False      2  18.78  3.00"
      ]
     },
     "execution_count": 18,
     "metadata": {},
     "output_type": "execute_result"
    }
   ],
   "source": [
    "df.tail(2)"
   ]
  },
  {
   "cell_type": "markdown",
   "metadata": {},
   "source": [
    "Answer: output is a dataframe"
   ]
  },
  {
   "cell_type": "markdown",
   "metadata": {},
   "source": [
    "> ### Question 9.  Does the dataset contain any missing values?"
   ]
  },
  {
   "cell_type": "code",
   "execution_count": 19,
   "metadata": {},
   "outputs": [
    {
     "data": {
      "text/html": [
       "<div>\n",
       "<style>\n",
       "    .dataframe thead tr:only-child th {\n",
       "        text-align: right;\n",
       "    }\n",
       "\n",
       "    .dataframe thead th {\n",
       "        text-align: left;\n",
       "    }\n",
       "\n",
       "    .dataframe tbody tr th {\n",
       "        vertical-align: top;\n",
       "    }\n",
       "</style>\n",
       "<table border=\"1\" class=\"dataframe\">\n",
       "  <thead>\n",
       "    <tr style=\"text-align: right;\">\n",
       "      <th></th>\n",
       "      <th>day</th>\n",
       "      <th>time</th>\n",
       "      <th>name</th>\n",
       "      <th>gender</th>\n",
       "      <th>is_smoker</th>\n",
       "      <th>party</th>\n",
       "      <th>check</th>\n",
       "      <th>tip</th>\n",
       "    </tr>\n",
       "  </thead>\n",
       "  <tbody>\n",
       "    <tr>\n",
       "      <th>0</th>\n",
       "      <td>False</td>\n",
       "      <td>False</td>\n",
       "      <td>False</td>\n",
       "      <td>False</td>\n",
       "      <td>False</td>\n",
       "      <td>False</td>\n",
       "      <td>False</td>\n",
       "      <td>False</td>\n",
       "    </tr>\n",
       "    <tr>\n",
       "      <th>1</th>\n",
       "      <td>False</td>\n",
       "      <td>False</td>\n",
       "      <td>False</td>\n",
       "      <td>False</td>\n",
       "      <td>False</td>\n",
       "      <td>False</td>\n",
       "      <td>False</td>\n",
       "      <td>False</td>\n",
       "    </tr>\n",
       "    <tr>\n",
       "      <th>2</th>\n",
       "      <td>False</td>\n",
       "      <td>False</td>\n",
       "      <td>False</td>\n",
       "      <td>False</td>\n",
       "      <td>False</td>\n",
       "      <td>False</td>\n",
       "      <td>False</td>\n",
       "      <td>False</td>\n",
       "    </tr>\n",
       "    <tr>\n",
       "      <th>3</th>\n",
       "      <td>False</td>\n",
       "      <td>False</td>\n",
       "      <td>False</td>\n",
       "      <td>False</td>\n",
       "      <td>False</td>\n",
       "      <td>False</td>\n",
       "      <td>False</td>\n",
       "      <td>False</td>\n",
       "    </tr>\n",
       "    <tr>\n",
       "      <th>4</th>\n",
       "      <td>False</td>\n",
       "      <td>False</td>\n",
       "      <td>False</td>\n",
       "      <td>False</td>\n",
       "      <td>False</td>\n",
       "      <td>False</td>\n",
       "      <td>False</td>\n",
       "      <td>False</td>\n",
       "    </tr>\n",
       "    <tr>\n",
       "      <th>...</th>\n",
       "      <td>...</td>\n",
       "      <td>...</td>\n",
       "      <td>...</td>\n",
       "      <td>...</td>\n",
       "      <td>...</td>\n",
       "      <td>...</td>\n",
       "      <td>...</td>\n",
       "      <td>...</td>\n",
       "    </tr>\n",
       "    <tr>\n",
       "      <th>239</th>\n",
       "      <td>False</td>\n",
       "      <td>False</td>\n",
       "      <td>False</td>\n",
       "      <td>False</td>\n",
       "      <td>False</td>\n",
       "      <td>False</td>\n",
       "      <td>False</td>\n",
       "      <td>False</td>\n",
       "    </tr>\n",
       "    <tr>\n",
       "      <th>240</th>\n",
       "      <td>False</td>\n",
       "      <td>False</td>\n",
       "      <td>False</td>\n",
       "      <td>False</td>\n",
       "      <td>False</td>\n",
       "      <td>False</td>\n",
       "      <td>False</td>\n",
       "      <td>False</td>\n",
       "    </tr>\n",
       "    <tr>\n",
       "      <th>241</th>\n",
       "      <td>False</td>\n",
       "      <td>False</td>\n",
       "      <td>False</td>\n",
       "      <td>False</td>\n",
       "      <td>False</td>\n",
       "      <td>False</td>\n",
       "      <td>False</td>\n",
       "      <td>False</td>\n",
       "    </tr>\n",
       "    <tr>\n",
       "      <th>242</th>\n",
       "      <td>False</td>\n",
       "      <td>False</td>\n",
       "      <td>False</td>\n",
       "      <td>False</td>\n",
       "      <td>False</td>\n",
       "      <td>False</td>\n",
       "      <td>False</td>\n",
       "      <td>False</td>\n",
       "    </tr>\n",
       "    <tr>\n",
       "      <th>243</th>\n",
       "      <td>False</td>\n",
       "      <td>False</td>\n",
       "      <td>False</td>\n",
       "      <td>False</td>\n",
       "      <td>False</td>\n",
       "      <td>False</td>\n",
       "      <td>False</td>\n",
       "      <td>False</td>\n",
       "    </tr>\n",
       "  </tbody>\n",
       "</table>\n",
       "<p>244 rows × 8 columns</p>\n",
       "</div>"
      ],
      "text/plain": [
       "       day   time   name  gender  is_smoker  party  check    tip\n",
       "0    False  False  False   False      False  False  False  False\n",
       "1    False  False  False   False      False  False  False  False\n",
       "2    False  False  False   False      False  False  False  False\n",
       "3    False  False  False   False      False  False  False  False\n",
       "4    False  False  False   False      False  False  False  False\n",
       "..     ...    ...    ...     ...        ...    ...    ...    ...\n",
       "239  False  False  False   False      False  False  False  False\n",
       "240  False  False  False   False      False  False  False  False\n",
       "241  False  False  False   False      False  False  False  False\n",
       "242  False  False  False   False      False  False  False  False\n",
       "243  False  False  False   False      False  False  False  False\n",
       "\n",
       "[244 rows x 8 columns]"
      ]
     },
     "execution_count": 19,
     "metadata": {},
     "output_type": "execute_result"
    }
   ],
   "source": [
    "df.isnull()"
   ]
  },
  {
   "cell_type": "code",
   "execution_count": 20,
   "metadata": {},
   "outputs": [
    {
     "data": {
      "text/plain": [
       "day          0\n",
       "time         0\n",
       "name         0\n",
       "gender       0\n",
       "is_smoker    0\n",
       "party        0\n",
       "check        0\n",
       "tip          0\n",
       "dtype: int64"
      ]
     },
     "execution_count": 20,
     "metadata": {},
     "output_type": "execute_result"
    }
   ],
   "source": [
    "df.isnull().sum()"
   ]
  },
  {
   "cell_type": "code",
   "execution_count": 21,
   "metadata": {},
   "outputs": [
    {
     "data": {
      "text/plain": [
       "0L"
      ]
     },
     "execution_count": 21,
     "metadata": {},
     "output_type": "execute_result"
    }
   ],
   "source": [
    "df.isnull().sum().sum()  ###tells you number of cell with missing values"
   ]
  },
  {
   "cell_type": "markdown",
   "metadata": {},
   "source": [
    "Answer: no missing values"
   ]
  },
  {
   "cell_type": "markdown",
   "metadata": {},
   "source": [
    "> ### Question 10.  What can you say about the `is_smoker` variable?  I.e., will it bring any insights when analyzing the dataset?  What do you want to do with it?  (and do it...)"
   ]
  },
  {
   "cell_type": "code",
   "execution_count": 22,
   "metadata": {},
   "outputs": [
    {
     "data": {
      "text/plain": [
       "0      False\n",
       "1      False\n",
       "2      False\n",
       "3      False\n",
       "4      False\n",
       "       ...  \n",
       "239    False\n",
       "240    False\n",
       "241    False\n",
       "242    False\n",
       "243    False\n",
       "Name: is_smoker, Length: 244, dtype: bool"
      ]
     },
     "execution_count": 22,
     "metadata": {},
     "output_type": "execute_result"
    }
   ],
   "source": [
    "df['is_smoker']"
   ]
  },
  {
   "cell_type": "code",
   "execution_count": 23,
   "metadata": {
    "collapsed": true
   },
   "outputs": [],
   "source": [
    "df = df.set_index('is_smoker')  ###i'm not sure this did what i wanted it to do..."
   ]
  },
  {
   "cell_type": "code",
   "execution_count": 25,
   "metadata": {},
   "outputs": [
    {
     "data": {
      "text/plain": [
       "Index([False, False, False, False, False, False, False, False, False, False,\n",
       "       ...\n",
       "       False, False, False, False, False, False, False, False, False, False],\n",
       "      dtype='object', name=u'is_smoker', length=244)"
      ]
     },
     "execution_count": 25,
     "metadata": {},
     "output_type": "execute_result"
    }
   ],
   "source": [
    "df.index"
   ]
  },
  {
   "cell_type": "code",
   "execution_count": 26,
   "metadata": {},
   "outputs": [
    {
     "data": {
      "text/html": [
       "<div>\n",
       "<style>\n",
       "    .dataframe thead tr:only-child th {\n",
       "        text-align: right;\n",
       "    }\n",
       "\n",
       "    .dataframe thead th {\n",
       "        text-align: left;\n",
       "    }\n",
       "\n",
       "    .dataframe tbody tr th {\n",
       "        vertical-align: top;\n",
       "    }\n",
       "</style>\n",
       "<table border=\"1\" class=\"dataframe\">\n",
       "  <thead>\n",
       "    <tr style=\"text-align: right;\">\n",
       "      <th></th>\n",
       "      <th>day</th>\n",
       "      <th>time</th>\n",
       "      <th>name</th>\n",
       "      <th>gender</th>\n",
       "      <th>party</th>\n",
       "      <th>check</th>\n",
       "      <th>tip</th>\n",
       "    </tr>\n",
       "    <tr>\n",
       "      <th>is_smoker</th>\n",
       "      <th></th>\n",
       "      <th></th>\n",
       "      <th></th>\n",
       "      <th></th>\n",
       "      <th></th>\n",
       "      <th></th>\n",
       "      <th></th>\n",
       "    </tr>\n",
       "  </thead>\n",
       "  <tbody>\n",
       "    <tr>\n",
       "      <th>False</th>\n",
       "      <td>Sunday</td>\n",
       "      <td>Dinner</td>\n",
       "      <td>Kimberly</td>\n",
       "      <td>Female</td>\n",
       "      <td>2</td>\n",
       "      <td>16.99</td>\n",
       "      <td>1.01</td>\n",
       "    </tr>\n",
       "    <tr>\n",
       "      <th>False</th>\n",
       "      <td>Sunday</td>\n",
       "      <td>Dinner</td>\n",
       "      <td>Nicholas</td>\n",
       "      <td>Male</td>\n",
       "      <td>3</td>\n",
       "      <td>10.34</td>\n",
       "      <td>1.66</td>\n",
       "    </tr>\n",
       "    <tr>\n",
       "      <th>False</th>\n",
       "      <td>Sunday</td>\n",
       "      <td>Dinner</td>\n",
       "      <td>Larry</td>\n",
       "      <td>Male</td>\n",
       "      <td>3</td>\n",
       "      <td>21.01</td>\n",
       "      <td>3.50</td>\n",
       "    </tr>\n",
       "    <tr>\n",
       "      <th>False</th>\n",
       "      <td>Sunday</td>\n",
       "      <td>Dinner</td>\n",
       "      <td>Joseph</td>\n",
       "      <td>Male</td>\n",
       "      <td>2</td>\n",
       "      <td>23.68</td>\n",
       "      <td>3.31</td>\n",
       "    </tr>\n",
       "    <tr>\n",
       "      <th>False</th>\n",
       "      <td>Sunday</td>\n",
       "      <td>Dinner</td>\n",
       "      <td>Janice</td>\n",
       "      <td>Female</td>\n",
       "      <td>4</td>\n",
       "      <td>24.59</td>\n",
       "      <td>3.61</td>\n",
       "    </tr>\n",
       "    <tr>\n",
       "      <th>...</th>\n",
       "      <td>...</td>\n",
       "      <td>...</td>\n",
       "      <td>...</td>\n",
       "      <td>...</td>\n",
       "      <td>...</td>\n",
       "      <td>...</td>\n",
       "      <td>...</td>\n",
       "    </tr>\n",
       "    <tr>\n",
       "      <th>False</th>\n",
       "      <td>Saturday</td>\n",
       "      <td>Dinner</td>\n",
       "      <td>Kevin</td>\n",
       "      <td>Male</td>\n",
       "      <td>3</td>\n",
       "      <td>29.03</td>\n",
       "      <td>5.92</td>\n",
       "    </tr>\n",
       "    <tr>\n",
       "      <th>False</th>\n",
       "      <td>Saturday</td>\n",
       "      <td>Dinner</td>\n",
       "      <td>Sandra</td>\n",
       "      <td>Female</td>\n",
       "      <td>2</td>\n",
       "      <td>27.18</td>\n",
       "      <td>2.00</td>\n",
       "    </tr>\n",
       "    <tr>\n",
       "      <th>False</th>\n",
       "      <td>Saturday</td>\n",
       "      <td>Dinner</td>\n",
       "      <td>Carl</td>\n",
       "      <td>Male</td>\n",
       "      <td>2</td>\n",
       "      <td>22.67</td>\n",
       "      <td>2.00</td>\n",
       "    </tr>\n",
       "    <tr>\n",
       "      <th>False</th>\n",
       "      <td>Saturday</td>\n",
       "      <td>Dinner</td>\n",
       "      <td>Jon</td>\n",
       "      <td>Male</td>\n",
       "      <td>2</td>\n",
       "      <td>17.82</td>\n",
       "      <td>1.75</td>\n",
       "    </tr>\n",
       "    <tr>\n",
       "      <th>False</th>\n",
       "      <td>Thursday</td>\n",
       "      <td>Dinner</td>\n",
       "      <td>Brandi</td>\n",
       "      <td>Female</td>\n",
       "      <td>2</td>\n",
       "      <td>18.78</td>\n",
       "      <td>3.00</td>\n",
       "    </tr>\n",
       "  </tbody>\n",
       "</table>\n",
       "<p>244 rows × 7 columns</p>\n",
       "</div>"
      ],
      "text/plain": [
       "                day    time      name  gender  party  check   tip\n",
       "is_smoker                                                        \n",
       "False        Sunday  Dinner  Kimberly  Female      2  16.99  1.01\n",
       "False        Sunday  Dinner  Nicholas    Male      3  10.34  1.66\n",
       "False        Sunday  Dinner     Larry    Male      3  21.01  3.50\n",
       "False        Sunday  Dinner    Joseph    Male      2  23.68  3.31\n",
       "False        Sunday  Dinner    Janice  Female      4  24.59  3.61\n",
       "...             ...     ...       ...     ...    ...    ...   ...\n",
       "False      Saturday  Dinner     Kevin    Male      3  29.03  5.92\n",
       "False      Saturday  Dinner    Sandra  Female      2  27.18  2.00\n",
       "False      Saturday  Dinner      Carl    Male      2  22.67  2.00\n",
       "False      Saturday  Dinner       Jon    Male      2  17.82  1.75\n",
       "False      Thursday  Dinner    Brandi  Female      2  18.78  3.00\n",
       "\n",
       "[244 rows x 7 columns]"
      ]
     },
     "execution_count": 26,
     "metadata": {},
     "output_type": "execute_result"
    }
   ],
   "source": [
    "df"
   ]
  },
  {
   "cell_type": "code",
   "execution_count": null,
   "metadata": {
    "collapsed": true
   },
   "outputs": [],
   "source": []
  },
  {
   "cell_type": "markdown",
   "metadata": {},
   "source": [
    "Answer: TODO"
   ]
  },
  {
   "cell_type": "markdown",
   "metadata": {},
   "source": [
    "> ### Question 11.  For which week days does the dataset has data for?"
   ]
  },
  {
   "cell_type": "code",
   "execution_count": 27,
   "metadata": {},
   "outputs": [
    {
     "data": {
      "text/plain": [
       "is_smoker\n",
       "False      Sunday\n",
       "False      Sunday\n",
       "False      Sunday\n",
       "False      Sunday\n",
       "False      Sunday\n",
       "           ...   \n",
       "False    Saturday\n",
       "False    Saturday\n",
       "False    Saturday\n",
       "False    Saturday\n",
       "False    Thursday\n",
       "Name: day, Length: 244, dtype: object"
      ]
     },
     "execution_count": 27,
     "metadata": {},
     "output_type": "execute_result"
    }
   ],
   "source": [
    "df.day"
   ]
  },
  {
   "cell_type": "code",
   "execution_count": 31,
   "metadata": {},
   "outputs": [
    {
     "data": {
      "text/plain": [
       "array(['Sunday', 'Saturday', 'Thursday', 'Friday'], dtype=object)"
      ]
     },
     "execution_count": 31,
     "metadata": {},
     "output_type": "execute_result"
    }
   ],
   "source": [
    "df.day.unique()"
   ]
  },
  {
   "cell_type": "markdown",
   "metadata": {},
   "source": [
    "Answer: Thursday and Friday"
   ]
  },
  {
   "cell_type": "markdown",
   "metadata": {},
   "source": [
    "> ### Question 12.  How often was the bistro patronized for each week day?"
   ]
  },
  {
   "cell_type": "markdown",
   "metadata": {},
   "source": [
    "(check `.value_counts()`; it could come in handy)\n",
    "\n",
    "(http://pandas.pydata.org/pandas-docs/stable/generated/pandas.Series.value_counts.html)"
   ]
  },
  {
   "cell_type": "code",
   "execution_count": 32,
   "metadata": {},
   "outputs": [
    {
     "data": {
      "text/html": [
       "<div>\n",
       "<style>\n",
       "    .dataframe thead tr:only-child th {\n",
       "        text-align: right;\n",
       "    }\n",
       "\n",
       "    .dataframe thead th {\n",
       "        text-align: left;\n",
       "    }\n",
       "\n",
       "    .dataframe tbody tr th {\n",
       "        vertical-align: top;\n",
       "    }\n",
       "</style>\n",
       "<table border=\"1\" class=\"dataframe\">\n",
       "  <thead>\n",
       "    <tr style=\"text-align: right;\">\n",
       "      <th></th>\n",
       "      <th>day</th>\n",
       "      <th>party</th>\n",
       "    </tr>\n",
       "  </thead>\n",
       "  <tbody>\n",
       "    <tr>\n",
       "      <th>0</th>\n",
       "      <td>Sunday</td>\n",
       "      <td>2</td>\n",
       "    </tr>\n",
       "    <tr>\n",
       "      <th>1</th>\n",
       "      <td>Sunday</td>\n",
       "      <td>3</td>\n",
       "    </tr>\n",
       "    <tr>\n",
       "      <th>2</th>\n",
       "      <td>Sunday</td>\n",
       "      <td>3</td>\n",
       "    </tr>\n",
       "    <tr>\n",
       "      <th>3</th>\n",
       "      <td>Sunday</td>\n",
       "      <td>2</td>\n",
       "    </tr>\n",
       "    <tr>\n",
       "      <th>4</th>\n",
       "      <td>Sunday</td>\n",
       "      <td>4</td>\n",
       "    </tr>\n",
       "    <tr>\n",
       "      <th>...</th>\n",
       "      <td>...</td>\n",
       "      <td>...</td>\n",
       "    </tr>\n",
       "    <tr>\n",
       "      <th>239</th>\n",
       "      <td>Saturday</td>\n",
       "      <td>3</td>\n",
       "    </tr>\n",
       "    <tr>\n",
       "      <th>240</th>\n",
       "      <td>Saturday</td>\n",
       "      <td>2</td>\n",
       "    </tr>\n",
       "    <tr>\n",
       "      <th>241</th>\n",
       "      <td>Saturday</td>\n",
       "      <td>2</td>\n",
       "    </tr>\n",
       "    <tr>\n",
       "      <th>242</th>\n",
       "      <td>Saturday</td>\n",
       "      <td>2</td>\n",
       "    </tr>\n",
       "    <tr>\n",
       "      <th>243</th>\n",
       "      <td>Thursday</td>\n",
       "      <td>2</td>\n",
       "    </tr>\n",
       "  </tbody>\n",
       "</table>\n",
       "<p>244 rows × 2 columns</p>\n",
       "</div>"
      ],
      "text/plain": [
       "          day  party\n",
       "0      Sunday      2\n",
       "1      Sunday      3\n",
       "2      Sunday      3\n",
       "3      Sunday      2\n",
       "4      Sunday      4\n",
       "..        ...    ...\n",
       "239  Saturday      3\n",
       "240  Saturday      2\n",
       "241  Saturday      2\n",
       "242  Saturday      2\n",
       "243  Thursday      2\n",
       "\n",
       "[244 rows x 2 columns]"
      ]
     },
     "execution_count": 32,
     "metadata": {},
     "output_type": "execute_result"
    }
   ],
   "source": [
    "df[['day', 'party']]"
   ]
  },
  {
   "cell_type": "code",
   "execution_count": 38,
   "metadata": {},
   "outputs": [
    {
     "data": {
      "text/plain": [
       "Saturday    87\n",
       "Sunday      76\n",
       "Thursday    62\n",
       "Friday      19\n",
       "Name: day, dtype: int64"
      ]
     },
     "execution_count": 38,
     "metadata": {},
     "output_type": "execute_result"
    }
   ],
   "source": [
    "df['day'].value_counts()"
   ]
  },
  {
   "cell_type": "markdown",
   "metadata": {},
   "source": [
    "Answer: Thursday = 62, Friday = 19"
   ]
  },
  {
   "cell_type": "markdown",
   "metadata": {},
   "source": [
    "> ### Question 13.  How much tip did waiters collect for each week day?"
   ]
  },
  {
   "cell_type": "code",
   "execution_count": 39,
   "metadata": {},
   "outputs": [
    {
     "data": {
      "text/plain": [
       "2.00    33\n",
       "3.00    23\n",
       "4.00    12\n",
       "5.00    10\n",
       "2.50    10\n",
       "        ..\n",
       "2.83     1\n",
       "1.58     1\n",
       "3.71     1\n",
       "3.35     1\n",
       "2.18     1\n",
       "Name: tip, Length: 123, dtype: int64"
      ]
     },
     "execution_count": 39,
     "metadata": {},
     "output_type": "execute_result"
    }
   ],
   "source": [
    "df['tip'].value_counts()"
   ]
  },
  {
   "cell_type": "code",
   "execution_count": 42,
   "metadata": {},
   "outputs": [
    {
     "data": {
      "text/plain": [
       "['Sunday', 'Friday', 'Saturday', 'Thursday']"
      ]
     },
     "execution_count": 42,
     "metadata": {},
     "output_type": "execute_result"
    }
   ],
   "source": [
    "list(set(df.day)) ###create a list of unique values by turning the pandas column into a set"
   ]
  },
  {
   "cell_type": "code",
   "execution_count": 49,
   "metadata": {},
   "outputs": [
    {
     "name": "stdout",
     "output_type": "stream",
     "text": [
      "171.83\n",
      "51.96\n"
     ]
    }
   ],
   "source": [
    "thursday = df[df[\"day\"]==\"Thursday\"]\n",
    "friday = df[df[\"day\"]==\"Friday\"]\n",
    "print(thursday[\"tip\"]).sum()\n",
    "print(friday[\"tip\"]).sum()"
   ]
  },
  {
   "cell_type": "markdown",
   "metadata": {},
   "source": [
    "Answer: thursday = $171.83\n",
    "        friday = $51.96"
   ]
  },
  {
   "cell_type": "markdown",
   "metadata": {},
   "source": [
    "> ### Question 14.  What is the average tip per check (in absolute \\$) for each week day?"
   ]
  },
  {
   "cell_type": "code",
   "execution_count": 50,
   "metadata": {},
   "outputs": [
    {
     "name": "stdout",
     "output_type": "stream",
     "text": [
      "2.7714516129\n",
      "2.73473684211\n"
     ]
    }
   ],
   "source": [
    "print(thursday[\"tip\"]).mean()\n",
    "print(friday[\"tip\"]).mean()"
   ]
  },
  {
   "cell_type": "markdown",
   "metadata": {},
   "source": [
    "Answer: thursday = $2.77\n",
    "        friday = $2.73"
   ]
  },
  {
   "cell_type": "markdown",
   "metadata": {},
   "source": [
    "> ### Question 15.  What is the average tip per check (as a percentage of the check) for each week day?"
   ]
  },
  {
   "cell_type": "code",
   "execution_count": 68,
   "metadata": {},
   "outputs": [
    {
     "data": {
      "text/plain": [
       "16.127563396664712"
      ]
     },
     "execution_count": 68,
     "metadata": {},
     "output_type": "execute_result"
    }
   ],
   "source": [
    "thurs_tip_avg_percent = (thursday['tip']/thursday['check']*100).mean()\n",
    "fri_tip_avg_percent = (friday['tip']/friday['check']*100).mean()\n",
    "\n",
    "thurs_tip_avg_percent\n",
    "\n",
    "\n"
   ]
  },
  {
   "cell_type": "code",
   "execution_count": 69,
   "metadata": {},
   "outputs": [
    {
     "data": {
      "text/plain": [
       "16.991302873347887"
      ]
     },
     "execution_count": 69,
     "metadata": {},
     "output_type": "execute_result"
    }
   ],
   "source": [
    "fri_tip_avg_percent"
   ]
  },
  {
   "cell_type": "code",
   "execution_count": null,
   "metadata": {},
   "outputs": [],
   "source": []
  },
  {
   "cell_type": "markdown",
   "metadata": {},
   "source": [
    "Answer: thurs = 16.13%\n",
    "        fri = 16.99%"
   ]
  },
  {
   "cell_type": "markdown",
   "metadata": {},
   "source": [
    "> ### Question 16.  Are there any name in common between male and female patrons?  (E.g., `Chris` can refer to either a man or a woman)"
   ]
  },
  {
   "cell_type": "markdown",
   "metadata": {},
   "source": [
    "(check `numpy.intersect1d()`; it could come in handy)\n",
    "\n",
    "(https://docs.scipy.org/doc/numpy/reference/generated/numpy.intersect1d.html)"
   ]
  },
  {
   "cell_type": "code",
   "execution_count": 74,
   "metadata": {},
   "outputs": [
    {
     "data": {
      "text/html": [
       "<div>\n",
       "<style>\n",
       "    .dataframe thead tr:only-child th {\n",
       "        text-align: right;\n",
       "    }\n",
       "\n",
       "    .dataframe thead th {\n",
       "        text-align: left;\n",
       "    }\n",
       "\n",
       "    .dataframe tbody tr th {\n",
       "        vertical-align: top;\n",
       "    }\n",
       "</style>\n",
       "<table border=\"1\" class=\"dataframe\">\n",
       "  <thead>\n",
       "    <tr style=\"text-align: right;\">\n",
       "      <th></th>\n",
       "      <th>is_smoker</th>\n",
       "      <th>day</th>\n",
       "      <th>time</th>\n",
       "      <th>name</th>\n",
       "      <th>gender</th>\n",
       "      <th>party</th>\n",
       "      <th>check</th>\n",
       "      <th>tip</th>\n",
       "    </tr>\n",
       "  </thead>\n",
       "  <tbody>\n",
       "    <tr>\n",
       "      <th>0</th>\n",
       "      <td>False</td>\n",
       "      <td>Sunday</td>\n",
       "      <td>Dinner</td>\n",
       "      <td>Kimberly</td>\n",
       "      <td>Female</td>\n",
       "      <td>2</td>\n",
       "      <td>16.99</td>\n",
       "      <td>1.01</td>\n",
       "    </tr>\n",
       "    <tr>\n",
       "      <th>1</th>\n",
       "      <td>False</td>\n",
       "      <td>Sunday</td>\n",
       "      <td>Dinner</td>\n",
       "      <td>Nicholas</td>\n",
       "      <td>Male</td>\n",
       "      <td>3</td>\n",
       "      <td>10.34</td>\n",
       "      <td>1.66</td>\n",
       "    </tr>\n",
       "    <tr>\n",
       "      <th>2</th>\n",
       "      <td>False</td>\n",
       "      <td>Sunday</td>\n",
       "      <td>Dinner</td>\n",
       "      <td>Larry</td>\n",
       "      <td>Male</td>\n",
       "      <td>3</td>\n",
       "      <td>21.01</td>\n",
       "      <td>3.50</td>\n",
       "    </tr>\n",
       "    <tr>\n",
       "      <th>3</th>\n",
       "      <td>False</td>\n",
       "      <td>Sunday</td>\n",
       "      <td>Dinner</td>\n",
       "      <td>Joseph</td>\n",
       "      <td>Male</td>\n",
       "      <td>2</td>\n",
       "      <td>23.68</td>\n",
       "      <td>3.31</td>\n",
       "    </tr>\n",
       "    <tr>\n",
       "      <th>4</th>\n",
       "      <td>False</td>\n",
       "      <td>Sunday</td>\n",
       "      <td>Dinner</td>\n",
       "      <td>Janice</td>\n",
       "      <td>Female</td>\n",
       "      <td>4</td>\n",
       "      <td>24.59</td>\n",
       "      <td>3.61</td>\n",
       "    </tr>\n",
       "    <tr>\n",
       "      <th>...</th>\n",
       "      <td>...</td>\n",
       "      <td>...</td>\n",
       "      <td>...</td>\n",
       "      <td>...</td>\n",
       "      <td>...</td>\n",
       "      <td>...</td>\n",
       "      <td>...</td>\n",
       "      <td>...</td>\n",
       "    </tr>\n",
       "    <tr>\n",
       "      <th>239</th>\n",
       "      <td>False</td>\n",
       "      <td>Saturday</td>\n",
       "      <td>Dinner</td>\n",
       "      <td>Kevin</td>\n",
       "      <td>Male</td>\n",
       "      <td>3</td>\n",
       "      <td>29.03</td>\n",
       "      <td>5.92</td>\n",
       "    </tr>\n",
       "    <tr>\n",
       "      <th>240</th>\n",
       "      <td>False</td>\n",
       "      <td>Saturday</td>\n",
       "      <td>Dinner</td>\n",
       "      <td>Sandra</td>\n",
       "      <td>Female</td>\n",
       "      <td>2</td>\n",
       "      <td>27.18</td>\n",
       "      <td>2.00</td>\n",
       "    </tr>\n",
       "    <tr>\n",
       "      <th>241</th>\n",
       "      <td>False</td>\n",
       "      <td>Saturday</td>\n",
       "      <td>Dinner</td>\n",
       "      <td>Carl</td>\n",
       "      <td>Male</td>\n",
       "      <td>2</td>\n",
       "      <td>22.67</td>\n",
       "      <td>2.00</td>\n",
       "    </tr>\n",
       "    <tr>\n",
       "      <th>242</th>\n",
       "      <td>False</td>\n",
       "      <td>Saturday</td>\n",
       "      <td>Dinner</td>\n",
       "      <td>Jon</td>\n",
       "      <td>Male</td>\n",
       "      <td>2</td>\n",
       "      <td>17.82</td>\n",
       "      <td>1.75</td>\n",
       "    </tr>\n",
       "    <tr>\n",
       "      <th>243</th>\n",
       "      <td>False</td>\n",
       "      <td>Thursday</td>\n",
       "      <td>Dinner</td>\n",
       "      <td>Brandi</td>\n",
       "      <td>Female</td>\n",
       "      <td>2</td>\n",
       "      <td>18.78</td>\n",
       "      <td>3.00</td>\n",
       "    </tr>\n",
       "  </tbody>\n",
       "</table>\n",
       "<p>244 rows × 8 columns</p>\n",
       "</div>"
      ],
      "text/plain": [
       "     is_smoker       day    time      name  gender  party  check   tip\n",
       "0        False    Sunday  Dinner  Kimberly  Female      2  16.99  1.01\n",
       "1        False    Sunday  Dinner  Nicholas    Male      3  10.34  1.66\n",
       "2        False    Sunday  Dinner     Larry    Male      3  21.01  3.50\n",
       "3        False    Sunday  Dinner    Joseph    Male      2  23.68  3.31\n",
       "4        False    Sunday  Dinner    Janice  Female      4  24.59  3.61\n",
       "..         ...       ...     ...       ...     ...    ...    ...   ...\n",
       "239      False  Saturday  Dinner     Kevin    Male      3  29.03  5.92\n",
       "240      False  Saturday  Dinner    Sandra  Female      2  27.18  2.00\n",
       "241      False  Saturday  Dinner      Carl    Male      2  22.67  2.00\n",
       "242      False  Saturday  Dinner       Jon    Male      2  17.82  1.75\n",
       "243      False  Thursday  Dinner    Brandi  Female      2  18.78  3.00\n",
       "\n",
       "[244 rows x 8 columns]"
      ]
     },
     "execution_count": 74,
     "metadata": {},
     "output_type": "execute_result"
    }
   ],
   "source": [
    "df"
   ]
  },
  {
   "cell_type": "code",
   "execution_count": null,
   "metadata": {
    "collapsed": true
   },
   "outputs": [],
   "source": []
  },
  {
   "cell_type": "markdown",
   "metadata": {},
   "source": [
    "Answer: TODO"
   ]
  },
  {
   "cell_type": "markdown",
   "metadata": {},
   "source": [
    "> ### Question 17.  If no patrons share the same name, how many unique patrons are in the dataset?"
   ]
  },
  {
   "cell_type": "code",
   "execution_count": null,
   "metadata": {},
   "outputs": [],
   "source": [
    "# TODO"
   ]
  },
  {
   "cell_type": "markdown",
   "metadata": {},
   "source": [
    "Answer: TODO"
   ]
  },
  {
   "cell_type": "markdown",
   "metadata": {},
   "source": [
    "> ### Question 18.  How many times did `Kevin` patronized the bistro?  How about `Alice`?"
   ]
  },
  {
   "cell_type": "code",
   "execution_count": null,
   "metadata": {},
   "outputs": [],
   "source": [
    "# TODO"
   ]
  },
  {
   "cell_type": "markdown",
   "metadata": {},
   "source": [
    "Answer: TODO"
   ]
  },
  {
   "cell_type": "markdown",
   "metadata": {},
   "source": [
    "> ### Question 19.  Who are the top 3 female and male patrons?"
   ]
  },
  {
   "cell_type": "code",
   "execution_count": null,
   "metadata": {},
   "outputs": [],
   "source": [
    "# TODO"
   ]
  },
  {
   "cell_type": "markdown",
   "metadata": {},
   "source": [
    "Answer: TODO"
   ]
  },
  {
   "cell_type": "markdown",
   "metadata": {},
   "source": [
    "> ### Question 20.  Who's the best tipper (as a fraction of all tips over all check totals)?  Who's the worst?  How many times did they patronize the bistro?"
   ]
  },
  {
   "cell_type": "markdown",
   "metadata": {},
   "source": [
    "- (http://pandas.pydata.org/pandas-docs/stable/generated/pandas.DataFrame.sort_values.html)\n",
    "- (http://pandas.pydata.org/pandas-docs/stable/generated/pandas.Series.sort_values.html)"
   ]
  },
  {
   "cell_type": "code",
   "execution_count": null,
   "metadata": {},
   "outputs": [],
   "source": [
    "# TODO"
   ]
  },
  {
   "cell_type": "markdown",
   "metadata": {},
   "source": [
    "Answer: TODO"
   ]
  }
 ],
 "metadata": {
  "kernelspec": {
   "display_name": "Python 2",
   "language": "python",
   "name": "python2"
  },
  "language_info": {
   "codemirror_mode": {
    "name": "ipython",
    "version": 2
   },
   "file_extension": ".py",
   "mimetype": "text/x-python",
   "name": "python",
   "nbconvert_exporter": "python",
   "pygments_lexer": "ipython2",
   "version": "2.7.13"
  }
 },
 "nbformat": 4,
 "nbformat_minor": 1
}
